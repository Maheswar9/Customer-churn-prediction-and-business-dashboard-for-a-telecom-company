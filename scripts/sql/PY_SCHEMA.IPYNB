{
 "cells": [
  {
   "cell_type": "code",
   "execution_count": null,
   "id": "f7ac0d74",
   "metadata": {},
   "outputs": [
    {
     "name": "stdout",
     "output_type": "stream",
     "text": [
      "DROP TABLE IF EXISTS telco_customers;\n",
      "CREATE TABLE telco_customers (\n",
      "  customerid VARCHAR PRIMARY KEY,\n",
      "  gender SMALLINT,\n",
      "  seniorcitizen SMALLINT,\n",
      "  partner SMALLINT,\n",
      "  dependents SMALLINT,\n",
      "  tenure INTEGER,\n",
      "  phoneservice SMALLINT,\n",
      "  paperlessbilling SMALLINT,\n",
      "  monthlycharges NUMERIC(8,2),\n",
      "  totalcharges NUMERIC(10,2),\n",
      "  churn SMALLINT,\n",
      "  multiplelines_no_phone_service SMALLINT,\n",
      "  multiplelines_yes SMALLINT,\n",
      "  internetservice_fiber_optic SMALLINT,\n",
      "  internetservice_no SMALLINT,\n",
      "  onlinesecurity_no_internet_service SMALLINT,\n",
      "  onlinesecurity_yes SMALLINT,\n",
      "  onlinebackup_no_internet_service SMALLINT,\n",
      "  onlinebackup_yes SMALLINT,\n",
      "  deviceprotection_no_internet_service SMALLINT,\n",
      "  deviceprotection_yes SMALLINT,\n",
      "  techsupport_no_internet_service SMALLINT,\n",
      "  techsupport_yes SMALLINT,\n",
      "  streamingtv_no_internet_service SMALLINT,\n",
      "  streamingtv_yes SMALLINT,\n",
      "  streamingmovies_no_internet_service SMALLINT,\n",
      "  streamingmovies_yes SMALLINT,\n",
      "  contract_one_year SMALLINT,\n",
      "  contract_two_year SMALLINT,\n",
      "  paymentmethod_credit_card_automatic SMALLINT,\n",
      "  paymentmethod_electronic_check SMALLINT,\n",
      "  paymentmethod_mailed_check SMALLINT\n",
      ");\n"
     ]
    }
   ],
   "source": [
    "#python script to generate SQL DDL for telco customers table\n",
    "# This script reads a cleaned CSV file and generates a SQL DDL statement to create a table\n",
    "import pandas as pd\n",
    "\n",
    "#  Load your cleaned CSV\n",
    "df = pd.read_csv(r\"C:\\Users\\NPG\\Desktop\\maheswar\\churn_prediction\\churn-prediction-dashboard\\data\\cleaned\\telco_churn_cleaned.csv\")\n",
    "\n",
    "#  Define base columns and their SQL types\n",
    "base_cols = {\n",
    "    \"customerid\": \"VARCHAR PRIMARY KEY\",\n",
    "    \"gender\": \"SMALLINT\",\n",
    "    \"seniorcitizen\": \"SMALLINT\",\n",
    "    \"partner\": \"SMALLINT\",\n",
    "    \"dependents\": \"SMALLINT\",\n",
    "    \"tenure\": \"INTEGER\",\n",
    "    \"phoneservice\": \"SMALLINT\",\n",
    "    \"paperlessbilling\": \"SMALLINT\",\n",
    "    \"monthlycharges\": \"NUMERIC(8,2)\",\n",
    "    \"totalcharges\": \"NUMERIC(10,2)\",\n",
    "    \"churn\": \"SMALLINT\"\n",
    "}\n",
    "\n",
    "# Build the DDL lines\n",
    "lines = [\"DROP TABLE IF EXISTS telco_customers;\", \"CREATE TABLE telco_customers (\"]\n",
    "for col, sql_type in base_cols.items():\n",
    "    lines.append(f\"  {col} {sql_type},\")\n",
    "for col in df.columns:\n",
    "    if col not in base_cols:\n",
    "        # sanitize names for SQL\n",
    "        safe_col = col.lower().replace(\" \", \"_\").replace(\"(\", \"\").replace(\")\", \"\")\n",
    "        lines.append(f\"  {safe_col} SMALLINT,\")\n",
    "# remove the trailing comma on the last column\n",
    "lines[-1] = lines[-1].rstrip(\",\")\n",
    "lines.append(\");\")\n",
    "\n",
    "#  Print the DDL\n",
    "print(\"\\n\".join(lines))"
   ]
  }
 ],
 "metadata": {
  "kernelspec": {
   "display_name": ".venv",
   "language": "python",
   "name": "python3"
  },
  "language_info": {
   "codemirror_mode": {
    "name": "ipython",
    "version": 3
   },
   "file_extension": ".py",
   "mimetype": "text/x-python",
   "name": "python",
   "nbconvert_exporter": "python",
   "pygments_lexer": "ipython3",
   "version": "3.13.4"
  }
 },
 "nbformat": 4,
 "nbformat_minor": 5
}
