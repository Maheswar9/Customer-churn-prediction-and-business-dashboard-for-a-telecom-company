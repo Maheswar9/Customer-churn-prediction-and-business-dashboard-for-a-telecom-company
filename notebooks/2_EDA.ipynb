{
 "cells": [
  {
   "cell_type": "code",
   "execution_count": null,
   "id": "dca4fe20",
   "metadata": {},
   "outputs": [],
   "source": [
    "#  load cleaned data\n",
    "import pandas as pd\n",
    "import matplotlib.pyplot as plt\n",
    "import seaborn as sns\n",
    "\n",
    "df = pd.read_csv(r\"C:\\Users\\NPG\\Desktop\\maheswar\\churn_prediction\\churn-prediction-dashboard\\data\\cleaned\\telco_churn_cleaned.csv\")\n",
    "\n",
    "#  overview\n",
    "df.info()\n",
    "df.describe()\n",
    "\n",
    "#  distribution of numerics\n",
    "df[['tenure','monthlycharges','totalcharges']].hist(figsize=(12,4), bins=30, layout=(1,3))\n",
    "plt.tight_layout()\n",
    "plt.show()\n",
    "\n",
    "#  churn distribution\n",
    "df['churn'].value_counts(normalize=True).plot(kind='bar')\n",
    "plt.xlabel('Churn (0=No,1=Yes)')\n",
    "plt.ylabel('Proportion')\n",
    "plt.title('Overall Churn Rate')\n",
    "plt.show()\n",
    "\n",
    "\n",
    "# churn by contract type\n",
    "orig = pd.read_csv(r\"C:\\Users\\NPG\\Desktop\\maheswar\\churn_prediction\\churn-prediction-dashboard\\data\\raw\\WA_Fn-UseC_-Telco-Customer-Churn.csv\")\n",
    "orig['churn_flag'] = orig['Churn'].map({'Yes':1,'No':0})\n",
    "orig.groupby('Contract')['churn_flag'].mean().plot(kind='bar')\n",
    "plt.ylabel('Churn Rate')\n",
    "plt.title('Churn Rate by Contract')\n",
    "plt.show()\n",
    "\n",
    "#  churn by payment method\n",
    "orig.groupby('PaymentMethod')['churn_flag'].mean().sort_values().plot(kind='barh')\n",
    "plt.xlabel('Churn Rate')\n",
    "plt.title('Churn Rate by Payment Method')\n",
    "plt.show()\n",
    "# drop any non-numeric columns by name\n",
    "corr_df = df.drop(columns=['customerid'])\n",
    "plt.figure(figsize=(10,8))\n",
    "sns.heatmap(\n",
    "    corr_df.corr(),\n",
    "    cmap='coolwarm',\n",
    "    center=0,\n",
    "    vmin=-1,\n",
    "    vmax=1\n",
    ")\n",
    "plt.title('Feature Correlation Matrix')\n",
    "plt.show()\n",
    "\n"
   ]
  }
 ],
 "metadata": {
  "kernelspec": {
   "display_name": ".venv",
   "language": "python",
   "name": "python3"
  },
  "language_info": {
   "codemirror_mode": {
    "name": "ipython",
    "version": 3
   },
   "file_extension": ".py",
   "mimetype": "text/x-python",
   "name": "python",
   "nbconvert_exporter": "python",
   "pygments_lexer": "ipython3",
   "version": "3.13.4"
  }
 },
 "nbformat": 4,
 "nbformat_minor": 5
}
